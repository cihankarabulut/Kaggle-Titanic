{
 "cells": [
  {
   "cell_type": "markdown",
   "id": "c499d632",
   "metadata": {},
   "source": [
    "### Titanic - Machine Learning from Disaster\n",
    "\n",
    "This is a well known [Kaggle ML](https://www.kaggle.com/c/titanic) competition for beginners to dive into. The goal is to use machine learning to create a model that predicts which passengers survived the Titanic shipwreck. \n",
    "\n",
    "The competition dataset can be downloaded from this [page](https://www.kaggle.com/c/titanic/data), and is already split into a training set and a test set. Now, let's load and explore our dataset. "
   ]
  },
  {
   "cell_type": "code",
   "execution_count": 1,
   "id": "e1fdc49e",
   "metadata": {},
   "outputs": [
    {
     "data": {
      "text/html": [
       "<div>\n",
       "<style scoped>\n",
       "    .dataframe tbody tr th:only-of-type {\n",
       "        vertical-align: middle;\n",
       "    }\n",
       "\n",
       "    .dataframe tbody tr th {\n",
       "        vertical-align: top;\n",
       "    }\n",
       "\n",
       "    .dataframe thead th {\n",
       "        text-align: right;\n",
       "    }\n",
       "</style>\n",
       "<table border=\"1\" class=\"dataframe\">\n",
       "  <thead>\n",
       "    <tr style=\"text-align: right;\">\n",
       "      <th></th>\n",
       "      <th>PassengerId</th>\n",
       "      <th>Survived</th>\n",
       "      <th>Pclass</th>\n",
       "      <th>Name</th>\n",
       "      <th>Sex</th>\n",
       "      <th>Age</th>\n",
       "      <th>SibSp</th>\n",
       "      <th>Parch</th>\n",
       "      <th>Ticket</th>\n",
       "      <th>Fare</th>\n",
       "      <th>Cabin</th>\n",
       "      <th>Embarked</th>\n",
       "    </tr>\n",
       "  </thead>\n",
       "  <tbody>\n",
       "    <tr>\n",
       "      <th>0</th>\n",
       "      <td>1</td>\n",
       "      <td>0</td>\n",
       "      <td>3</td>\n",
       "      <td>Braund, Mr. Owen Harris</td>\n",
       "      <td>male</td>\n",
       "      <td>22.0</td>\n",
       "      <td>1</td>\n",
       "      <td>0</td>\n",
       "      <td>A/5 21171</td>\n",
       "      <td>7.2500</td>\n",
       "      <td>NaN</td>\n",
       "      <td>S</td>\n",
       "    </tr>\n",
       "    <tr>\n",
       "      <th>1</th>\n",
       "      <td>2</td>\n",
       "      <td>1</td>\n",
       "      <td>1</td>\n",
       "      <td>Cumings, Mrs. John Bradley (Florence Briggs Th...</td>\n",
       "      <td>female</td>\n",
       "      <td>38.0</td>\n",
       "      <td>1</td>\n",
       "      <td>0</td>\n",
       "      <td>PC 17599</td>\n",
       "      <td>71.2833</td>\n",
       "      <td>C85</td>\n",
       "      <td>C</td>\n",
       "    </tr>\n",
       "    <tr>\n",
       "      <th>2</th>\n",
       "      <td>3</td>\n",
       "      <td>1</td>\n",
       "      <td>3</td>\n",
       "      <td>Heikkinen, Miss. Laina</td>\n",
       "      <td>female</td>\n",
       "      <td>26.0</td>\n",
       "      <td>0</td>\n",
       "      <td>0</td>\n",
       "      <td>STON/O2. 3101282</td>\n",
       "      <td>7.9250</td>\n",
       "      <td>NaN</td>\n",
       "      <td>S</td>\n",
       "    </tr>\n",
       "    <tr>\n",
       "      <th>3</th>\n",
       "      <td>4</td>\n",
       "      <td>1</td>\n",
       "      <td>1</td>\n",
       "      <td>Futrelle, Mrs. Jacques Heath (Lily May Peel)</td>\n",
       "      <td>female</td>\n",
       "      <td>35.0</td>\n",
       "      <td>1</td>\n",
       "      <td>0</td>\n",
       "      <td>113803</td>\n",
       "      <td>53.1000</td>\n",
       "      <td>C123</td>\n",
       "      <td>S</td>\n",
       "    </tr>\n",
       "    <tr>\n",
       "      <th>4</th>\n",
       "      <td>5</td>\n",
       "      <td>0</td>\n",
       "      <td>3</td>\n",
       "      <td>Allen, Mr. William Henry</td>\n",
       "      <td>male</td>\n",
       "      <td>35.0</td>\n",
       "      <td>0</td>\n",
       "      <td>0</td>\n",
       "      <td>373450</td>\n",
       "      <td>8.0500</td>\n",
       "      <td>NaN</td>\n",
       "      <td>S</td>\n",
       "    </tr>\n",
       "  </tbody>\n",
       "</table>\n",
       "</div>"
      ],
      "text/plain": [
       "   PassengerId  Survived  Pclass  \\\n",
       "0            1         0       3   \n",
       "1            2         1       1   \n",
       "2            3         1       3   \n",
       "3            4         1       1   \n",
       "4            5         0       3   \n",
       "\n",
       "                                                Name     Sex   Age  SibSp  \\\n",
       "0                            Braund, Mr. Owen Harris    male  22.0      1   \n",
       "1  Cumings, Mrs. John Bradley (Florence Briggs Th...  female  38.0      1   \n",
       "2                             Heikkinen, Miss. Laina  female  26.0      0   \n",
       "3       Futrelle, Mrs. Jacques Heath (Lily May Peel)  female  35.0      1   \n",
       "4                           Allen, Mr. William Henry    male  35.0      0   \n",
       "\n",
       "   Parch            Ticket     Fare Cabin Embarked  \n",
       "0      0         A/5 21171   7.2500   NaN        S  \n",
       "1      0          PC 17599  71.2833   C85        C  \n",
       "2      0  STON/O2. 3101282   7.9250   NaN        S  \n",
       "3      0            113803  53.1000  C123        S  \n",
       "4      0            373450   8.0500   NaN        S  "
      ]
     },
     "execution_count": 1,
     "metadata": {},
     "output_type": "execute_result"
    }
   ],
   "source": [
    "import pandas as pd\n",
    "import numpy as np\n",
    "\n",
    "train_set = pd.read_csv('train.csv')\n",
    "test_set = pd.read_csv('test.csv')\n",
    "train_set.head()"
   ]
  },
  {
   "cell_type": "code",
   "execution_count": 2,
   "id": "933d4484",
   "metadata": {},
   "outputs": [
    {
     "data": {
      "text/html": [
       "<div>\n",
       "<style scoped>\n",
       "    .dataframe tbody tr th:only-of-type {\n",
       "        vertical-align: middle;\n",
       "    }\n",
       "\n",
       "    .dataframe tbody tr th {\n",
       "        vertical-align: top;\n",
       "    }\n",
       "\n",
       "    .dataframe thead th {\n",
       "        text-align: right;\n",
       "    }\n",
       "</style>\n",
       "<table border=\"1\" class=\"dataframe\">\n",
       "  <thead>\n",
       "    <tr style=\"text-align: right;\">\n",
       "      <th></th>\n",
       "      <th>PassengerId</th>\n",
       "      <th>Pclass</th>\n",
       "      <th>Name</th>\n",
       "      <th>Sex</th>\n",
       "      <th>Age</th>\n",
       "      <th>SibSp</th>\n",
       "      <th>Parch</th>\n",
       "      <th>Ticket</th>\n",
       "      <th>Fare</th>\n",
       "      <th>Cabin</th>\n",
       "      <th>Embarked</th>\n",
       "    </tr>\n",
       "  </thead>\n",
       "  <tbody>\n",
       "    <tr>\n",
       "      <th>0</th>\n",
       "      <td>892</td>\n",
       "      <td>3</td>\n",
       "      <td>Kelly, Mr. James</td>\n",
       "      <td>male</td>\n",
       "      <td>34.5</td>\n",
       "      <td>0</td>\n",
       "      <td>0</td>\n",
       "      <td>330911</td>\n",
       "      <td>7.8292</td>\n",
       "      <td>NaN</td>\n",
       "      <td>Q</td>\n",
       "    </tr>\n",
       "    <tr>\n",
       "      <th>1</th>\n",
       "      <td>893</td>\n",
       "      <td>3</td>\n",
       "      <td>Wilkes, Mrs. James (Ellen Needs)</td>\n",
       "      <td>female</td>\n",
       "      <td>47.0</td>\n",
       "      <td>1</td>\n",
       "      <td>0</td>\n",
       "      <td>363272</td>\n",
       "      <td>7.0000</td>\n",
       "      <td>NaN</td>\n",
       "      <td>S</td>\n",
       "    </tr>\n",
       "    <tr>\n",
       "      <th>2</th>\n",
       "      <td>894</td>\n",
       "      <td>2</td>\n",
       "      <td>Myles, Mr. Thomas Francis</td>\n",
       "      <td>male</td>\n",
       "      <td>62.0</td>\n",
       "      <td>0</td>\n",
       "      <td>0</td>\n",
       "      <td>240276</td>\n",
       "      <td>9.6875</td>\n",
       "      <td>NaN</td>\n",
       "      <td>Q</td>\n",
       "    </tr>\n",
       "    <tr>\n",
       "      <th>3</th>\n",
       "      <td>895</td>\n",
       "      <td>3</td>\n",
       "      <td>Wirz, Mr. Albert</td>\n",
       "      <td>male</td>\n",
       "      <td>27.0</td>\n",
       "      <td>0</td>\n",
       "      <td>0</td>\n",
       "      <td>315154</td>\n",
       "      <td>8.6625</td>\n",
       "      <td>NaN</td>\n",
       "      <td>S</td>\n",
       "    </tr>\n",
       "    <tr>\n",
       "      <th>4</th>\n",
       "      <td>896</td>\n",
       "      <td>3</td>\n",
       "      <td>Hirvonen, Mrs. Alexander (Helga E Lindqvist)</td>\n",
       "      <td>female</td>\n",
       "      <td>22.0</td>\n",
       "      <td>1</td>\n",
       "      <td>1</td>\n",
       "      <td>3101298</td>\n",
       "      <td>12.2875</td>\n",
       "      <td>NaN</td>\n",
       "      <td>S</td>\n",
       "    </tr>\n",
       "  </tbody>\n",
       "</table>\n",
       "</div>"
      ],
      "text/plain": [
       "   PassengerId  Pclass                                          Name     Sex  \\\n",
       "0          892       3                              Kelly, Mr. James    male   \n",
       "1          893       3              Wilkes, Mrs. James (Ellen Needs)  female   \n",
       "2          894       2                     Myles, Mr. Thomas Francis    male   \n",
       "3          895       3                              Wirz, Mr. Albert    male   \n",
       "4          896       3  Hirvonen, Mrs. Alexander (Helga E Lindqvist)  female   \n",
       "\n",
       "    Age  SibSp  Parch   Ticket     Fare Cabin Embarked  \n",
       "0  34.5      0      0   330911   7.8292   NaN        Q  \n",
       "1  47.0      1      0   363272   7.0000   NaN        S  \n",
       "2  62.0      0      0   240276   9.6875   NaN        Q  \n",
       "3  27.0      0      0   315154   8.6625   NaN        S  \n",
       "4  22.0      1      1  3101298  12.2875   NaN        S  "
      ]
     },
     "execution_count": 2,
     "metadata": {},
     "output_type": "execute_result"
    }
   ],
   "source": [
    "test_set.head()"
   ]
  },
  {
   "cell_type": "markdown",
   "id": "7b851c0b",
   "metadata": {},
   "source": [
    "The features have the following meaning:\n",
    "* **Survived**: The target variable, 0 means the passenger did not survive, while 1 means he/she survived.\n",
    "* **Pclass**: Passenger class.\n",
    "* **Name**, **Sex**, **Age**: Self-explanatory\n",
    "* **SibSp**: How many siblings and spouses of the passenger aboard the Titanic.\n",
    "* **Parch**: How many children and parents of the passenger aboard the Titanic.\n",
    "* **Ticket**: Ticket ID.\n",
    "* **Fare**:Price paid (in pounds).\n",
    "* **Cabin**: Passenger's cabin number.\n",
    "* **Embarked**: Where the passenger embarked the Titanic.\n",
    "\n",
    "Let's get more info to see how much data we are missing:"
   ]
  },
  {
   "cell_type": "code",
   "execution_count": 3,
   "id": "f7e5f50c",
   "metadata": {},
   "outputs": [
    {
     "name": "stdout",
     "output_type": "stream",
     "text": [
      "<class 'pandas.core.frame.DataFrame'>\n",
      "RangeIndex: 891 entries, 0 to 890\n",
      "Data columns (total 12 columns):\n",
      " #   Column       Non-Null Count  Dtype  \n",
      "---  ------       --------------  -----  \n",
      " 0   PassengerId  891 non-null    int64  \n",
      " 1   Survived     891 non-null    int64  \n",
      " 2   Pclass       891 non-null    int64  \n",
      " 3   Name         891 non-null    object \n",
      " 4   Sex          891 non-null    object \n",
      " 5   Age          714 non-null    float64\n",
      " 6   SibSp        891 non-null    int64  \n",
      " 7   Parch        891 non-null    int64  \n",
      " 8   Ticket       891 non-null    object \n",
      " 9   Fare         891 non-null    float64\n",
      " 10  Cabin        204 non-null    object \n",
      " 11  Embarked     889 non-null    object \n",
      "dtypes: float64(2), int64(5), object(5)\n",
      "memory usage: 83.7+ KB\n"
     ]
    }
   ],
   "source": [
    "train_set.info()"
   ]
  },
  {
   "cell_type": "code",
   "execution_count": 4,
   "id": "22de3b55",
   "metadata": {},
   "outputs": [
    {
     "name": "stdout",
     "output_type": "stream",
     "text": [
      "<class 'pandas.core.frame.DataFrame'>\n",
      "RangeIndex: 418 entries, 0 to 417\n",
      "Data columns (total 11 columns):\n",
      " #   Column       Non-Null Count  Dtype  \n",
      "---  ------       --------------  -----  \n",
      " 0   PassengerId  418 non-null    int64  \n",
      " 1   Pclass       418 non-null    int64  \n",
      " 2   Name         418 non-null    object \n",
      " 3   Sex          418 non-null    object \n",
      " 4   Age          332 non-null    float64\n",
      " 5   SibSp        418 non-null    int64  \n",
      " 6   Parch        418 non-null    int64  \n",
      " 7   Ticket       418 non-null    object \n",
      " 8   Fare         417 non-null    float64\n",
      " 9   Cabin        91 non-null     object \n",
      " 10  Embarked     418 non-null    object \n",
      "dtypes: float64(2), int64(4), object(5)\n",
      "memory usage: 36.0+ KB\n"
     ]
    }
   ],
   "source": [
    "test_set.info()"
   ]
  },
  {
   "cell_type": "markdown",
   "id": "351cacc0",
   "metadata": {},
   "source": [
    "We see that the the **Age**, **Cabin**, **Embarked**, and **Fare**  features are missing values. Let's see how much data is missing exactly from each of these categories:"
   ]
  },
  {
   "cell_type": "code",
   "execution_count": 5,
   "id": "c2a414fb",
   "metadata": {},
   "outputs": [
    {
     "data": {
      "text/plain": [
       "Cabin          687\n",
       "Age            177\n",
       "Embarked         2\n",
       "PassengerId      0\n",
       "Survived         0\n",
       "Pclass           0\n",
       "Name             0\n",
       "Sex              0\n",
       "SibSp            0\n",
       "Parch            0\n",
       "Ticket           0\n",
       "Fare             0\n",
       "dtype: int64"
      ]
     },
     "execution_count": 5,
     "metadata": {},
     "output_type": "execute_result"
    }
   ],
   "source": [
    "train_set.isna().sum().sort_values(ascending=False)"
   ]
  },
  {
   "cell_type": "code",
   "execution_count": 6,
   "id": "dcf6984c",
   "metadata": {},
   "outputs": [
    {
     "data": {
      "text/plain": [
       "Cabin          327\n",
       "Age             86\n",
       "Fare             1\n",
       "PassengerId      0\n",
       "Pclass           0\n",
       "Name             0\n",
       "Sex              0\n",
       "SibSp            0\n",
       "Parch            0\n",
       "Ticket           0\n",
       "Embarked         0\n",
       "dtype: int64"
      ]
     },
     "execution_count": 6,
     "metadata": {},
     "output_type": "execute_result"
    }
   ],
   "source": [
    "test_set.isna().sum().sort_values(ascending=False)"
   ]
  },
  {
   "cell_type": "markdown",
   "id": "9eb12910",
   "metadata": {},
   "source": [
    "The **Cabin** feature is missing the most data, and its not obvious how to reengineer the missing values. So, we will get rid of it."
   ]
  },
  {
   "cell_type": "code",
   "execution_count": 7,
   "id": "3928eaee",
   "metadata": {},
   "outputs": [],
   "source": [
    "train_set.drop('Cabin', axis = 1, inplace = True)\n",
    "test_set.drop('Cabin', axis = 1, inplace = True)"
   ]
  },
  {
   "cell_type": "code",
   "execution_count": 8,
   "id": "fa33f04a",
   "metadata": {},
   "outputs": [
    {
     "data": {
      "text/plain": [
       "S    644\n",
       "C    168\n",
       "Q     77\n",
       "Name: Embarked, dtype: int64"
      ]
     },
     "execution_count": 8,
     "metadata": {},
     "output_type": "execute_result"
    }
   ],
   "source": [
    "train_set['Embarked'].value_counts()"
   ]
  },
  {
   "cell_type": "markdown",
   "id": "26ae2d0d",
   "metadata": {},
   "source": [
    "Most passengers have embarked at *S=Southampton*. So we will replace the missing values with *S*."
   ]
  },
  {
   "cell_type": "code",
   "execution_count": 9,
   "id": "5a35efa5",
   "metadata": {},
   "outputs": [],
   "source": [
    "train_set[\"Embarked\"] = train_set[\"Embarked\"].fillna(\"S\")"
   ]
  },
  {
   "cell_type": "markdown",
   "id": "0f3fb025",
   "metadata": {},
   "source": [
    "We don't need to do anything for the test set since **Embarked** category in test set is not missing any data."
   ]
  },
  {
   "cell_type": "markdown",
   "id": "c3bd3ef8",
   "metadata": {},
   "source": [
    "The **Age** feature has about 19% null values. We can replace these null values with the mean or median age. First, let's calculate mean, median, and standard deviations across different subcategories so that we can be more precise when replacing the null values in **Age** category."
   ]
  },
  {
   "cell_type": "code",
   "execution_count": 10,
   "id": "4ef85e01",
   "metadata": {},
   "outputs": [
    {
     "data": {
      "text/html": [
       "<div>\n",
       "<style scoped>\n",
       "    .dataframe tbody tr th:only-of-type {\n",
       "        vertical-align: middle;\n",
       "    }\n",
       "\n",
       "    .dataframe tbody tr th {\n",
       "        vertical-align: top;\n",
       "    }\n",
       "\n",
       "    .dataframe thead th {\n",
       "        text-align: right;\n",
       "    }\n",
       "</style>\n",
       "<table border=\"1\" class=\"dataframe\">\n",
       "  <thead>\n",
       "    <tr style=\"text-align: right;\">\n",
       "      <th></th>\n",
       "      <th></th>\n",
       "      <th>Count</th>\n",
       "      <th>mean</th>\n",
       "      <th>median</th>\n",
       "      <th>std</th>\n",
       "    </tr>\n",
       "    <tr>\n",
       "      <th>Pclass</th>\n",
       "      <th>Sex</th>\n",
       "      <th></th>\n",
       "      <th></th>\n",
       "      <th></th>\n",
       "      <th></th>\n",
       "    </tr>\n",
       "  </thead>\n",
       "  <tbody>\n",
       "    <tr>\n",
       "      <th rowspan=\"2\" valign=\"top\">1</th>\n",
       "      <th>female</th>\n",
       "      <td>94</td>\n",
       "      <td>34.611765</td>\n",
       "      <td>35.0</td>\n",
       "      <td>13.612052</td>\n",
       "    </tr>\n",
       "    <tr>\n",
       "      <th>male</th>\n",
       "      <td>122</td>\n",
       "      <td>41.281386</td>\n",
       "      <td>40.0</td>\n",
       "      <td>15.139570</td>\n",
       "    </tr>\n",
       "    <tr>\n",
       "      <th rowspan=\"2\" valign=\"top\">2</th>\n",
       "      <th>female</th>\n",
       "      <td>76</td>\n",
       "      <td>28.722973</td>\n",
       "      <td>28.0</td>\n",
       "      <td>12.872702</td>\n",
       "    </tr>\n",
       "    <tr>\n",
       "      <th>male</th>\n",
       "      <td>108</td>\n",
       "      <td>30.740707</td>\n",
       "      <td>30.0</td>\n",
       "      <td>14.793894</td>\n",
       "    </tr>\n",
       "    <tr>\n",
       "      <th rowspan=\"2\" valign=\"top\">3</th>\n",
       "      <th>female</th>\n",
       "      <td>144</td>\n",
       "      <td>21.750000</td>\n",
       "      <td>21.5</td>\n",
       "      <td>12.729964</td>\n",
       "    </tr>\n",
       "    <tr>\n",
       "      <th>male</th>\n",
       "      <td>347</td>\n",
       "      <td>26.507589</td>\n",
       "      <td>25.0</td>\n",
       "      <td>12.159514</td>\n",
       "    </tr>\n",
       "  </tbody>\n",
       "</table>\n",
       "</div>"
      ],
      "text/plain": [
       "               Count       mean  median        std\n",
       "Pclass Sex                                        \n",
       "1      female     94  34.611765    35.0  13.612052\n",
       "       male      122  41.281386    40.0  15.139570\n",
       "2      female     76  28.722973    28.0  12.872702\n",
       "       male      108  30.740707    30.0  14.793894\n",
       "3      female    144  21.750000    21.5  12.729964\n",
       "       male      347  26.507589    25.0  12.159514"
      ]
     },
     "execution_count": 10,
     "metadata": {},
     "output_type": "execute_result"
    }
   ],
   "source": [
    "Pclass_count_train_set = pd.DataFrame({'Count': train_set.groupby(['Pclass', 'Sex']).size()})\n",
    "\n",
    "Age_stats_train = pd.pivot_table(train_set, index = ['Pclass', 'Sex'], \n",
    "                              values = 'Age', aggfunc = (np.mean, np.std, np.median))\n",
    "\n",
    "Pclass_count_train_set.join(Age_stats_train, how = 'outer')"
   ]
  },
  {
   "cell_type": "markdown",
   "id": "5372d5b2",
   "metadata": {},
   "source": [
    "The table shows that the mean and median values don't differ by much, and also the standard deviations across all subcategories are not too high. So we can either use mean or the median to replace the null value but we will stick with median. "
   ]
  },
  {
   "cell_type": "code",
   "execution_count": 11,
   "id": "0803303a",
   "metadata": {},
   "outputs": [],
   "source": [
    "Null_values_train_set = {35: (train_set['Pclass'] == 1) & (train_set['Sex'] == 'female') & train_set['Age'].isnull(),\n",
    "                   40: (train_set['Pclass'] == 1) & (train_set['Sex'] == 'male') & train_set['Age'].isnull(),\n",
    "                   28: (train_set['Pclass'] == 2) & (train_set['Sex'] == 'female') & train_set['Age'].isnull(),\n",
    "                   30: (train_set['Pclass'] == 2) & (train_set['Sex'] == 'male') & train_set['Age'].isnull(),\n",
    "                   21.5: (train_set['Pclass'] == 3) & (train_set['Sex'] == 'female') & train_set['Age'].isnull(),\n",
    "                   25: (train_set['Pclass'] == 3) & (train_set['Sex'] == 'male') & train_set['Age'].isnull()}"
   ]
  },
  {
   "cell_type": "code",
   "execution_count": 12,
   "id": "b30b22bc",
   "metadata": {},
   "outputs": [],
   "source": [
    "for replacement_value, condition in Null_values_train_set.items(): \n",
    "    train_set.loc[condition, 'Age'] = replacement_value"
   ]
  },
  {
   "cell_type": "code",
   "execution_count": 13,
   "id": "8d15767e",
   "metadata": {},
   "outputs": [
    {
     "data": {
      "text/plain": [
       "PassengerId    0\n",
       "Survived       0\n",
       "Pclass         0\n",
       "Name           0\n",
       "Sex            0\n",
       "Age            0\n",
       "SibSp          0\n",
       "Parch          0\n",
       "Ticket         0\n",
       "Fare           0\n",
       "Embarked       0\n",
       "dtype: int64"
      ]
     },
     "execution_count": 13,
     "metadata": {},
     "output_type": "execute_result"
    }
   ],
   "source": [
    "train_set.isna().sum().sort_values(ascending=False)"
   ]
  },
  {
   "cell_type": "markdown",
   "id": "926c8f59",
   "metadata": {},
   "source": [
    "Let's do the same for the test set."
   ]
  },
  {
   "cell_type": "code",
   "execution_count": 14,
   "id": "056a82b1",
   "metadata": {},
   "outputs": [
    {
     "data": {
      "text/html": [
       "<div>\n",
       "<style scoped>\n",
       "    .dataframe tbody tr th:only-of-type {\n",
       "        vertical-align: middle;\n",
       "    }\n",
       "\n",
       "    .dataframe tbody tr th {\n",
       "        vertical-align: top;\n",
       "    }\n",
       "\n",
       "    .dataframe thead th {\n",
       "        text-align: right;\n",
       "    }\n",
       "</style>\n",
       "<table border=\"1\" class=\"dataframe\">\n",
       "  <thead>\n",
       "    <tr style=\"text-align: right;\">\n",
       "      <th></th>\n",
       "      <th></th>\n",
       "      <th>Count</th>\n",
       "      <th>mean</th>\n",
       "      <th>median</th>\n",
       "      <th>std</th>\n",
       "    </tr>\n",
       "    <tr>\n",
       "      <th>Pclass</th>\n",
       "      <th>Sex</th>\n",
       "      <th></th>\n",
       "      <th></th>\n",
       "      <th></th>\n",
       "      <th></th>\n",
       "    </tr>\n",
       "  </thead>\n",
       "  <tbody>\n",
       "    <tr>\n",
       "      <th rowspan=\"2\" valign=\"top\">1</th>\n",
       "      <th>female</th>\n",
       "      <td>50</td>\n",
       "      <td>41.333333</td>\n",
       "      <td>41.0</td>\n",
       "      <td>14.541698</td>\n",
       "    </tr>\n",
       "    <tr>\n",
       "      <th>male</th>\n",
       "      <td>57</td>\n",
       "      <td>40.520000</td>\n",
       "      <td>42.0</td>\n",
       "      <td>13.507352</td>\n",
       "    </tr>\n",
       "    <tr>\n",
       "      <th rowspan=\"2\" valign=\"top\">2</th>\n",
       "      <th>female</th>\n",
       "      <td>30</td>\n",
       "      <td>24.376552</td>\n",
       "      <td>24.0</td>\n",
       "      <td>12.697827</td>\n",
       "    </tr>\n",
       "    <tr>\n",
       "      <th>male</th>\n",
       "      <td>63</td>\n",
       "      <td>30.940678</td>\n",
       "      <td>28.0</td>\n",
       "      <td>12.610233</td>\n",
       "    </tr>\n",
       "    <tr>\n",
       "      <th rowspan=\"2\" valign=\"top\">3</th>\n",
       "      <th>female</th>\n",
       "      <td>72</td>\n",
       "      <td>23.073400</td>\n",
       "      <td>22.0</td>\n",
       "      <td>11.128369</td>\n",
       "    </tr>\n",
       "    <tr>\n",
       "      <th>male</th>\n",
       "      <td>146</td>\n",
       "      <td>24.525104</td>\n",
       "      <td>24.0</td>\n",
       "      <td>10.240251</td>\n",
       "    </tr>\n",
       "  </tbody>\n",
       "</table>\n",
       "</div>"
      ],
      "text/plain": [
       "               Count       mean  median        std\n",
       "Pclass Sex                                        \n",
       "1      female     50  41.333333    41.0  14.541698\n",
       "       male       57  40.520000    42.0  13.507352\n",
       "2      female     30  24.376552    24.0  12.697827\n",
       "       male       63  30.940678    28.0  12.610233\n",
       "3      female     72  23.073400    22.0  11.128369\n",
       "       male      146  24.525104    24.0  10.240251"
      ]
     },
     "execution_count": 14,
     "metadata": {},
     "output_type": "execute_result"
    }
   ],
   "source": [
    "Pclass_count_test_set = pd.DataFrame({'Count': test_set.groupby(['Pclass', 'Sex']).size()})\n",
    "\n",
    "Age_stats_test = pd.pivot_table(test_set, index = ['Pclass', 'Sex'], \n",
    "                              values = 'Age', aggfunc = (np.mean, np.std, np.median))\n",
    "\n",
    "Pclass_count_test_set.join(Age_stats_test, how = 'outer')"
   ]
  },
  {
   "cell_type": "code",
   "execution_count": 15,
   "id": "9fe9642b",
   "metadata": {},
   "outputs": [],
   "source": [
    "Null_values_test_set = {41: (test_set['Pclass'] == 1) & (test_set['Sex'] == 'female') & test_set['Age'].isnull(),\n",
    "                   42: (test_set['Pclass'] == 1) & (test_set['Sex'] == 'male') & test_set['Age'].isnull(),\n",
    "                   24.01: (test_set['Pclass'] == 2) & (test_set['Sex'] == 'female') & test_set['Age'].isnull(),\n",
    "                   28: (test_set['Pclass'] == 2) & (test_set['Sex'] == 'male') & test_set['Age'].isnull(),\n",
    "                   22: (test_set['Pclass'] == 3) & (test_set['Sex'] == 'female') & test_set['Age'].isnull(),\n",
    "                   24: (test_set['Pclass'] == 3) & (test_set['Sex'] == 'male') & test_set['Age'].isnull()}"
   ]
  },
  {
   "cell_type": "markdown",
   "id": "547afb26",
   "metadata": {},
   "source": [
    "The reader may notice that for the third condition in the above dictionary I have used 24.01 as the replacement value. The reason for this is that Python doesn't allow two keys to have the same value. There are different ways one can bypass this, but, for the sake of simplicity, I just did a quick fix by making one of the median values 24.01.  "
   ]
  },
  {
   "cell_type": "code",
   "execution_count": 16,
   "id": "35e94ba8",
   "metadata": {},
   "outputs": [],
   "source": [
    "for replacement_value, condition in Null_values_test_set.items(): \n",
    "    test_set.loc[condition, 'Age'] = replacement_value"
   ]
  },
  {
   "cell_type": "code",
   "execution_count": 17,
   "id": "20195f09",
   "metadata": {},
   "outputs": [
    {
     "data": {
      "text/plain": [
       "Fare           1\n",
       "PassengerId    0\n",
       "Pclass         0\n",
       "Name           0\n",
       "Sex            0\n",
       "Age            0\n",
       "SibSp          0\n",
       "Parch          0\n",
       "Ticket         0\n",
       "Embarked       0\n",
       "dtype: int64"
      ]
     },
     "execution_count": 17,
     "metadata": {},
     "output_type": "execute_result"
    }
   ],
   "source": [
    "test_set.isna().sum().sort_values(ascending=False)"
   ]
  },
  {
   "cell_type": "markdown",
   "id": "8679f1e2",
   "metadata": {},
   "source": [
    "The **Fare** in test set is missing one value which we will replace with the mean as well."
   ]
  },
  {
   "cell_type": "code",
   "execution_count": 18,
   "id": "32dc3f3a",
   "metadata": {},
   "outputs": [],
   "source": [
    "test_set[\"Fare\"] = test_set[\"Fare\"].fillna(test_set[\"Fare\"].median())"
   ]
  },
  {
   "cell_type": "code",
   "execution_count": 19,
   "id": "10134d9b",
   "metadata": {},
   "outputs": [
    {
     "data": {
      "text/plain": [
       "PassengerId    0\n",
       "Pclass         0\n",
       "Name           0\n",
       "Sex            0\n",
       "Age            0\n",
       "SibSp          0\n",
       "Parch          0\n",
       "Ticket         0\n",
       "Fare           0\n",
       "Embarked       0\n",
       "dtype: int64"
      ]
     },
     "execution_count": 19,
     "metadata": {},
     "output_type": "execute_result"
    }
   ],
   "source": [
    "test_set.isna().sum().sort_values(ascending=False)"
   ]
  },
  {
   "cell_type": "markdown",
   "id": "76c8c086",
   "metadata": {},
   "source": [
    "The **Name**, **Ticket** and **Sex** attributes are categorical variables and their values need to be transformed into numerical values before feeding them into any ML models. The **Name** and **Ticket** attributes may have some value, but again there is no obvious way of transforming their values to useful numerical values that an ML model can consume. So for our initial ML model we will ignore these two attributes."
   ]
  },
  {
   "cell_type": "markdown",
   "id": "1b6dd3b9",
   "metadata": {},
   "source": [
    "It remains to decide what to do with **SibSp** and **Parch**. Let's use a count plot to visualize both categories."
   ]
  },
  {
   "cell_type": "code",
   "execution_count": 20,
   "id": "053312c7",
   "metadata": {},
   "outputs": [],
   "source": [
    "import seaborn as sns\n",
    "\n",
    "sns.set_style(\"darkgrid\")\n",
    "\n",
    "import matplotlib as mpl\n",
    "import matplotlib.pyplot as plt\n",
    "\n",
    "plt.style.use('seaborn')"
   ]
  },
  {
   "cell_type": "code",
   "execution_count": 21,
   "id": "88079d2d",
   "metadata": {},
   "outputs": [
    {
     "data": {
      "image/png": "[encoded data removed]",
      "text/plain": [
       "<Figure size 1080x360 with 2 Axes>"
      ]
     },
     "metadata": {},
     "output_type": "display_data"
    }
   ],
   "source": [
    "fig, ax = plt.subplots(1, 2, figsize = (15,5))\n",
    "\n",
    "sns.countplot(data = train_set, x = 'SibSp', ax=ax[0], \n",
    "            hue = 'Survived', palette = (\"Blues_d\"))\n",
    "\n",
    "sns.countplot(data = train_set, x = 'Parch', ax=ax[1], \n",
    "            hue = 'Survived', palette = (\"Blues_d\"));\n"
   ]
  },
  {
   "cell_type": "markdown",
   "id": "3f250005",
   "metadata": {},
   "source": [
    "It looks like both features have several subcategories that contain only a few values. It is better to combine them by creating a new feature called **Family_size** that takes into account the relationship between these two features. We do this as follows.   "
   ]
  },
  {
   "cell_type": "code",
   "execution_count": 22,
   "id": "23619aab",
   "metadata": {},
   "outputs": [],
   "source": [
    "train_set['Family_size_tmp'] = train_set['SibSp'].astype('int') + train_set['Parch'].astype('int') + 1\n",
    "\n",
    "test_set['Family_size_tmp'] = test_set['SibSp'].astype('int') + test_set['Parch'].astype('int') + 1"
   ]
  },
  {
   "cell_type": "code",
   "execution_count": 23,
   "id": "febde539",
   "metadata": {},
   "outputs": [],
   "source": [
    "conditions_train = [(train_set['Family_size_tmp'] == 1),\n",
    "                (train_set['Family_size_tmp'] == 2),\n",
    "                (train_set['Family_size_tmp'] > 2) & (train_set['Family_size_tmp'] < 5),\n",
    "                (train_set['Family_size_tmp'] > 4)]\n",
    "\n",
    "values_train = ['Alone', 'Small', 'Medium', 'Large']"
   ]
  },
  {
   "cell_type": "code",
   "execution_count": 24,
   "id": "c890514d",
   "metadata": {},
   "outputs": [],
   "source": [
    "train_set['Family_size'] = np.select(conditions_train, values_train)"
   ]
  },
  {
   "cell_type": "code",
   "execution_count": 25,
   "id": "e263c35e",
   "metadata": {},
   "outputs": [],
   "source": [
    "conditions_test = [(test_set['Family_size_tmp'] == 1),\n",
    "                (test_set['Family_size_tmp'] == 2),\n",
    "                (test_set['Family_size_tmp'] > 2) & (test_set['Family_size_tmp'] < 5),\n",
    "                (test_set['Family_size_tmp'] > 4)]\n",
    "\n",
    "values_test = ['Alone', 'Small', 'Medium', 'Large']"
   ]
  },
  {
   "cell_type": "code",
   "execution_count": 26,
   "id": "762d2bf6",
   "metadata": {},
   "outputs": [],
   "source": [
    "test_set['Family_size'] = np.select(conditions_test, values_test)"
   ]
  },
  {
   "cell_type": "code",
   "execution_count": 27,
   "id": "9c3121dd",
   "metadata": {},
   "outputs": [
    {
     "data": {
      "image/png": "[encoded data removed]",
      "text/plain": [
       "<Figure size 576x396 with 1 Axes>"
      ]
     },
     "metadata": {},
     "output_type": "display_data"
    }
   ],
   "source": [
    "sns.countplot(x = train_set['Family_size'], hue = train_set['Survived'], \n",
    "              palette = (\"Blues_d\"));"
   ]
  },
  {
   "cell_type": "markdown",
   "id": "15be52aa",
   "metadata": {},
   "source": [
    "Let's not forget to drop the features that are not used ."
   ]
  },
  {
   "cell_type": "code",
   "execution_count": 28,
   "id": "75593e32",
   "metadata": {},
   "outputs": [],
   "source": [
    "train_set.drop(['SibSp', 'Parch', 'Family_size_tmp'], axis = 1, inplace = True)\n",
    "test_set.drop(['SibSp', 'Parch', 'Family_size_tmp'], axis = 1, inplace = True)"
   ]
  },
  {
   "cell_type": "code",
   "execution_count": 29,
   "id": "640c96ca",
   "metadata": {},
   "outputs": [
    {
     "data": {
      "text/html": [
       "<div>\n",
       "<style scoped>\n",
       "    .dataframe tbody tr th:only-of-type {\n",
       "        vertical-align: middle;\n",
       "    }\n",
       "\n",
       "    .dataframe tbody tr th {\n",
       "        vertical-align: top;\n",
       "    }\n",
       "\n",
       "    .dataframe thead th {\n",
       "        text-align: right;\n",
       "    }\n",
       "</style>\n",
       "<table border=\"1\" class=\"dataframe\">\n",
       "  <thead>\n",
       "    <tr style=\"text-align: right;\">\n",
       "      <th></th>\n",
       "      <th>PassengerId</th>\n",
       "      <th>Survived</th>\n",
       "      <th>Pclass</th>\n",
       "      <th>Name</th>\n",
       "      <th>Sex</th>\n",
       "      <th>Age</th>\n",
       "      <th>Ticket</th>\n",
       "      <th>Fare</th>\n",
       "      <th>Embarked</th>\n",
       "      <th>Family_size</th>\n",
       "    </tr>\n",
       "  </thead>\n",
       "  <tbody>\n",
       "    <tr>\n",
       "      <th>0</th>\n",
       "      <td>1</td>\n",
       "      <td>0</td>\n",
       "      <td>3</td>\n",
       "      <td>Braund, Mr. Owen Harris</td>\n",
       "      <td>male</td>\n",
       "      <td>22.0</td>\n",
       "      <td>A/5 21171</td>\n",
       "      <td>7.2500</td>\n",
       "      <td>S</td>\n",
       "      <td>Small</td>\n",
       "    </tr>\n",
       "    <tr>\n",
       "      <th>1</th>\n",
       "      <td>2</td>\n",
       "      <td>1</td>\n",
       "      <td>1</td>\n",
       "      <td>Cumings, Mrs. John Bradley (Florence Briggs Th...</td>\n",
       "      <td>female</td>\n",
       "      <td>38.0</td>\n",
       "      <td>PC 17599</td>\n",
       "      <td>71.2833</td>\n",
       "      <td>C</td>\n",
       "      <td>Small</td>\n",
       "    </tr>\n",
       "    <tr>\n",
       "      <th>2</th>\n",
       "      <td>3</td>\n",
       "      <td>1</td>\n",
       "      <td>3</td>\n",
       "      <td>Heikkinen, Miss. Laina</td>\n",
       "      <td>female</td>\n",
       "      <td>26.0</td>\n",
       "      <td>STON/O2. 3101282</td>\n",
       "      <td>7.9250</td>\n",
       "      <td>S</td>\n",
       "      <td>Alone</td>\n",
       "    </tr>\n",
       "  </tbody>\n",
       "</table>\n",
       "</div>"
      ],
      "text/plain": [
       "   PassengerId  Survived  Pclass  \\\n",
       "0            1         0       3   \n",
       "1            2         1       1   \n",
       "2            3         1       3   \n",
       "\n",
       "                                                Name     Sex   Age  \\\n",
       "0                            Braund, Mr. Owen Harris    male  22.0   \n",
       "1  Cumings, Mrs. John Bradley (Florence Briggs Th...  female  38.0   \n",
       "2                             Heikkinen, Miss. Laina  female  26.0   \n",
       "\n",
       "             Ticket     Fare Embarked Family_size  \n",
       "0         A/5 21171   7.2500        S       Small  \n",
       "1          PC 17599  71.2833        C       Small  \n",
       "2  STON/O2. 3101282   7.9250        S       Alone  "
      ]
     },
     "execution_count": 29,
     "metadata": {},
     "output_type": "execute_result"
    }
   ],
   "source": [
    "train_set.head(3)"
   ]
  },
  {
   "cell_type": "markdown",
   "id": "aafe7419",
   "metadata": {},
   "source": [
    "Finally, we need to decide what to do with **Fare**. Let's look at the following graph and see what we get."
   ]
  },
  {
   "cell_type": "code",
   "execution_count": 36,
   "id": "cc6077f0",
   "metadata": {},
   "outputs": [
    {
     "data": {
      "image/png": "[encoded data removed]",
      "text/plain": [
       "<Figure size 1080x720 with 1 Axes>"
      ]
     },
     "metadata": {},
     "output_type": "display_data"
    }
   ],
   "source": [
    "\n",
    "ax = plt.subplots(1, 1, figsize = (15, 10))\n",
    "sns.scatterplot(x=train_set[\"Fare\"].index, y=train_set['Fare'],\n",
    "                hue =train_set['Survived'], palette = (\"BuPu\"));"
   ]
  },
  {
   "cell_type": "code",
   "execution_count": 81,
   "id": "81fbdc47",
   "metadata": {},
   "outputs": [
    {
     "data": {
      "image/png": "[encoded data removed]",
      "text/plain": [
       "<Figure size 1080x720 with 1 Axes>"
      ]
     },
     "metadata": {},
     "output_type": "display_data"
    }
   ],
   "source": [
    "ax = plt.subplots(1, 1, figsize = (15, 10))\n",
    "sns.histplot(x = train_set['Fare'], hue = train_set['Survived'],\n",
    "              palette = (\"PuRd\"));"
   ]
  },
  {
   "cell_type": "markdown",
   "id": "da32697e",
   "metadata": {},
   "source": [
    "We can see from graphs (especially the second one) that **Fare** is significantly skewed towards left (lower fares). We could use binning to remedy this, but unfortunately there is no fixed bin width that we can use to make the **Fare** have a more  uniform distribution which is due to the fact that the prices seems very arbitrary. So, we will leave **Fare** as it is but will scale its values.     "
   ]
  },
  {
   "cell_type": "markdown",
   "id": "4bdbd14b",
   "metadata": {},
   "source": [
    "Let's build our preprocessing pipeline now:"
   ]
  },
  {
   "cell_type": "code",
   "execution_count": 82,
   "id": "26344a1a",
   "metadata": {},
   "outputs": [],
   "source": [
    "from sklearn.preprocessing import OneHotEncoder\n",
    "from sklearn.preprocessing import StandardScaler\n",
    "from sklearn.compose import ColumnTransformer"
   ]
  },
  {
   "cell_type": "code",
   "execution_count": 83,
   "id": "b1dffe40",
   "metadata": {},
   "outputs": [],
   "source": [
    "cat_encoder = OneHotEncoder()\n",
    "std_scaler = StandardScaler()\n",
    "\n",
    "num_attribs = [\"Fare\",'Age']\n",
    "cat_attribs = ['Sex', 'Embarked', 'Family_size']# We are not including Pclass since it is already encode it.\n",
    "\n",
    "preprocess_pipeline = ColumnTransformer([\n",
    "        (\"num\", std_scaler, num_attribs),\n",
    "        (\"cat\", cat_encoder, cat_attribs) \n",
    "    ])\n"
   ]
  },
  {
   "cell_type": "markdown",
   "id": "1326d546",
   "metadata": {},
   "source": [
    "Now, we have a nice preprocessing pipeline that takes the raw data and outputs numerical input features that we can feed to any Machine Learning model we want."
   ]
  },
  {
   "cell_type": "code",
   "execution_count": 84,
   "id": "80f2198e",
   "metadata": {},
   "outputs": [
    {
     "data": {
      "text/plain": [
       "array([[-0.50244517, -0.53489116,  0.        , ...,  0.        ,\n",
       "         0.        ,  1.        ],\n",
       "       [ 0.78684529,  0.66839176,  1.        , ...,  0.        ,\n",
       "         0.        ,  1.        ],\n",
       "       [-0.48885426, -0.23407043,  1.        , ...,  0.        ,\n",
       "         0.        ,  0.        ],\n",
       "       ...,\n",
       "       [-0.17626324, -0.57249375,  1.        , ...,  0.        ,\n",
       "         1.        ,  0.        ],\n",
       "       [-0.04438104, -0.23407043,  0.        , ...,  0.        ,\n",
       "         0.        ,  0.        ],\n",
       "       [-0.49237783,  0.21716066,  0.        , ...,  0.        ,\n",
       "         0.        ,  0.        ]])"
      ]
     },
     "execution_count": 84,
     "metadata": {},
     "output_type": "execute_result"
    }
   ],
   "source": [
    "X_train_prepared = preprocess_pipeline.fit_transform(train_set)\n",
    "X_train_prepared"
   ]
  },
  {
   "cell_type": "markdown",
   "id": "0941c2d5",
   "metadata": {},
   "source": [
    "We also need the labels!!"
   ]
  },
  {
   "cell_type": "code",
   "execution_count": 85,
   "id": "7d54667d",
   "metadata": {},
   "outputs": [],
   "source": [
    "y_train = train_set['Survived']"
   ]
  },
  {
   "cell_type": "markdown",
   "id": "74ce027b",
   "metadata": {},
   "source": [
    "We are all ready to train our ML models now. Let's us try a few different ones and use cross-validation to see which one is the best."
   ]
  },
  {
   "cell_type": "code",
   "execution_count": 86,
   "id": "8dcf4420",
   "metadata": {},
   "outputs": [],
   "source": [
    "from sklearn.svm import SVC\n",
    "from sklearn.ensemble import RandomForestClassifier\n",
    "from sklearn.neighbors import KNeighborsClassifier\n",
    "from sklearn.linear_model import SGDClassifier"
   ]
  },
  {
   "cell_type": "code",
   "execution_count": 87,
   "id": "f4103211",
   "metadata": {},
   "outputs": [],
   "source": [
    "from sklearn.model_selection import cross_val_score"
   ]
  },
  {
   "cell_type": "code",
   "execution_count": 88,
   "id": "ccd2602e",
   "metadata": {},
   "outputs": [
    {
     "data": {
      "text/plain": [
       "0.8271785268414481"
      ]
     },
     "execution_count": 88,
     "metadata": {},
     "output_type": "execute_result"
    }
   ],
   "source": [
    "svm_clf = SVC(gamma=\"auto\")\n",
    "svm_scores = cross_val_score(svm_clf, X_train_prepared, y_train, cv=10)\n",
    "svm_scores.mean()\n"
   ]
  },
  {
   "cell_type": "code",
   "execution_count": 89,
   "id": "412adf2a",
   "metadata": {},
   "outputs": [
    {
     "data": {
      "text/plain": [
       "0.7946816479400749"
      ]
     },
     "execution_count": 89,
     "metadata": {},
     "output_type": "execute_result"
    }
   ],
   "source": [
    "forest_clf = RandomForestClassifier()\n",
    "forest_scores = cross_val_score(forest_clf, X_train_prepared, y_train, cv=10)\n",
    "forest_scores.mean()"
   ]
  },
  {
   "cell_type": "code",
   "execution_count": 90,
   "id": "4dee9fb5",
   "metadata": {},
   "outputs": [
    {
     "data": {
      "text/plain": [
       "0.7913358302122347"
      ]
     },
     "execution_count": 90,
     "metadata": {},
     "output_type": "execute_result"
    }
   ],
   "source": [
    "knn_clf = KNeighborsClassifier()\n",
    "knn_scores = cross_val_score(knn_clf, X_train_prepared, y_train, cv=10)\n",
    "knn_scores.mean()"
   ]
  },
  {
   "cell_type": "code",
   "execution_count": 91,
   "id": "2c381829",
   "metadata": {},
   "outputs": [
    {
     "data": {
      "text/plain": [
       "0.7946691635455679"
      ]
     },
     "execution_count": 91,
     "metadata": {},
     "output_type": "execute_result"
    }
   ],
   "source": [
    "sgd_clf = SGDClassifier(random_state=42)\n",
    "sgd_scores = cross_val_score(sgd_clf, X_train_prepared, y_train, cv=10)\n",
    "sgd_scores.mean()"
   ]
  },
  {
   "cell_type": "markdown",
   "id": "ca0e2746",
   "metadata": {},
   "source": [
    "`SVC` seems to give the best results. But let's see how well our classifier is at predicting the correct labels by looking at the confusion matrix, precision and recall score for our classifier."
   ]
  },
  {
   "cell_type": "code",
   "execution_count": 97,
   "id": "eaed3eaf",
   "metadata": {},
   "outputs": [],
   "source": [
    "from sklearn.model_selection import cross_val_predict"
   ]
  },
  {
   "cell_type": "code",
   "execution_count": 98,
   "id": "4d5533a8",
   "metadata": {},
   "outputs": [],
   "source": [
    "y_train_predictions =cross_val_predict(svm_clf, X_train_prepared, y_train, cv=3)"
   ]
  },
  {
   "cell_type": "code",
   "execution_count": 99,
   "id": "fff284e4",
   "metadata": {},
   "outputs": [],
   "source": [
    "from sklearn.metrics import confusion_matrix"
   ]
  },
  {
   "cell_type": "code",
   "execution_count": 100,
   "id": "f22a4d39",
   "metadata": {},
   "outputs": [
    {
     "data": {
      "text/plain": [
       "array([[487,  62],\n",
       "       [ 97, 245]], dtype=int64)"
      ]
     },
     "execution_count": 100,
     "metadata": {},
     "output_type": "execute_result"
    }
   ],
   "source": [
    "confusion_matrix(y_train,y_train_predictions)"
   ]
  },
  {
   "cell_type": "markdown",
   "id": "eb1654b1",
   "metadata": {},
   "source": [
    "We note that each row in confucion matrix represents an *actual class*, while each column represents a *predicted class*. So, the first row of the above matrix represents the passengers who didn't survive (the negative class): 487 of them were correctly classified as not survived (true negatives), while the remaining 62 were incorrectly classified as survived (false negatives) by the classifier. The second row represents the survivors (the positive class): 97 of them were incorrectly classified as not survived (false negatives), while the remaining 245 were correctly classified as survived (true positives). This shows that the accuracy score of %82 is a bit missleading. Let's look at the other scores to get a better sense of how good our classifier is at predicting correct labels.\n"
   ]
  },
  {
   "cell_type": "code",
   "execution_count": 103,
   "id": "3eba5be2",
   "metadata": {},
   "outputs": [],
   "source": [
    "from sklearn.metrics import precision_score, recall_score\n",
    "from sklearn.metrics import precision_recall_curve"
   ]
  },
  {
   "cell_type": "code",
   "execution_count": 104,
   "id": "73a38716",
   "metadata": {},
   "outputs": [
    {
     "data": {
      "text/plain": [
       "(0.7980456026058632, 0.716374269005848)"
      ]
     },
     "execution_count": 104,
     "metadata": {},
     "output_type": "execute_result"
    }
   ],
   "source": [
    "precision_score(y_train,y_train_predictions), recall_score(y_train,y_train_predictions)"
   ]
  },
  {
   "cell_type": "markdown",
   "id": "100b10be",
   "metadata": {},
   "source": [
    "These scores tell us that:\n",
    "- When the classifier claims that a passenger survived, it is correct only 79.8% of the time.\n",
    "- Moreover, it only detects 71.6% of the passengers who survived. \n",
    "\n",
    "We can try to improve these scores by using `GridSearchCV` to look for the optimal hyperparamaters for our model. But, I don't think we will see a significant improvement of these scores. Below we plot two graphs that show the Precison/Recall Trade-off for our model. "
   ]
  },
  {
   "cell_type": "code",
   "execution_count": 108,
   "id": "00b0703b",
   "metadata": {},
   "outputs": [],
   "source": [
    "precisions, recalls, thresholds = precision_recall_curve(y_train, y_scores)"
   ]
  },
  {
   "cell_type": "code",
   "execution_count": 109,
   "id": "d4901967",
   "metadata": {},
   "outputs": [
    {
     "data": {
      "image/png": "[encoded data removed]",
      "text/plain": [
       "<Figure size 576x288 with 1 Axes>"
      ]
     },
     "metadata": {},
     "output_type": "display_data"
    }
   ],
   "source": [
    "def plot_precision_recall_vs_threshold(precisions, recalls, thresholds):\n",
    "    plt.plot(thresholds, precisions[:-1], \"b--\", label=\"Precision\", linewidth=2)\n",
    "    plt.plot(thresholds, recalls[:-1], \"g-\", label=\"Recall\", linewidth=2)\n",
    "    plt.legend(loc=\"center right\", fontsize=16) \n",
    "    plt.xlabel(\"Threshold\", fontsize=16)        \n",
    "    plt.grid(True)                              \n",
    "    plt.axis([-1.5, 1.5, 0, 1])             \n",
    "\n",
    "\n",
    "recall_80_precision = recalls[np.argmax(precisions >= 0.80)]\n",
    "threshold_80_precision = thresholds[np.argmax(precisions >= 0.80)]\n",
    "\n",
    "\n",
    "plt.figure(figsize=(8, 4))                                                                  \n",
    "plot_precision_recall_vs_threshold(precisions, recalls, thresholds)\n",
    "plt.plot([threshold_80_precision, threshold_80_precision], [0, 0.8], \"r:\")                 \n",
    "plt.plot([-1.5, threshold_80_precision], [0.8, 0.8], \"r:\")                                \n",
    "plt.plot([-1.5, threshold_80_precision], [recall_80_precision, recall_80_precision], \"r:\")\n",
    "plt.plot([threshold_80_precision], [0.8], \"ro\")                                             \n",
    "plt.plot([threshold_80_precision], [recall_80_precision], \"ro\")                             \n",
    "                                        \n",
    "plt.show()"
   ]
  },
  {
   "cell_type": "code",
   "execution_count": 110,
   "id": "a94c29ad",
   "metadata": {},
   "outputs": [
    {
     "data": {
      "image/png": "[encoded data removed]",
      "text/plain": [
       "<Figure size 576x432 with 1 Axes>"
      ]
     },
     "metadata": {},
     "output_type": "display_data"
    }
   ],
   "source": [
    "def plot_precision_vs_recall(precisions, recalls):\n",
    "    plt.plot(recalls, precisions, \"b-\", linewidth=2)\n",
    "    plt.xlabel(\"Recall\", fontsize=16)\n",
    "    plt.ylabel(\"Precision\", fontsize=16)\n",
    "    plt.axis([0, 1, 0, 1])\n",
    "    plt.grid(True)\n",
    "\n",
    "plt.figure(figsize=(8, 6))\n",
    "plot_precision_vs_recall(precisions, recalls)\n",
    "plt.plot([recall_80_precision, recall_80_precision], [0., 0.8], \"r:\")\n",
    "plt.plot([0.0, recall_80_precision], [0.8, 0.8], \"r:\")\n",
    "plt.plot([recall_80_precision], [0.8], \"ro\")\n",
    "plt.show()"
   ]
  },
  {
   "cell_type": "markdown",
   "id": "840d7b58",
   "metadata": {},
   "source": [
    "We are now ready to train our model.\n"
   ]
  },
  {
   "cell_type": "code",
   "execution_count": 113,
   "id": "747990c3",
   "metadata": {},
   "outputs": [
    {
     "data": {
      "text/plain": [
       "SVC(gamma='auto')"
      ]
     },
     "execution_count": 113,
     "metadata": {},
     "output_type": "execute_result"
    }
   ],
   "source": [
    "svm_clf.fit(X_train_prepared,y_train)"
   ]
  },
  {
   "cell_type": "markdown",
   "id": "5a193ed1",
   "metadata": {},
   "source": [
    "Finally, let's use the trained model to make predicitons on the test set."
   ]
  },
  {
   "cell_type": "code",
   "execution_count": 115,
   "id": "5fa7ebe0",
   "metadata": {},
   "outputs": [],
   "source": [
    "X_test_prepared = preprocess_pipeline.fit_transform(test_set)\n",
    "y_predictions = svm_clf.predict(X_test_prepared)"
   ]
  },
  {
   "cell_type": "code",
   "execution_count": 116,
   "id": "6b1e5775",
   "metadata": {},
   "outputs": [],
   "source": [
    "y_predictions_df = pd.concat([test_set[\"PassengerId\"],pd.DataFrame(y_predictions,columns = [\"Survived\"])],axis=1)"
   ]
  },
  {
   "cell_type": "code",
   "execution_count": 117,
   "id": "c2fc8853",
   "metadata": {},
   "outputs": [
    {
     "data": {
      "text/html": [
       "<div>\n",
       "<style scoped>\n",
       "    .dataframe tbody tr th:only-of-type {\n",
       "        vertical-align: middle;\n",
       "    }\n",
       "\n",
       "    .dataframe tbody tr th {\n",
       "        vertical-align: top;\n",
       "    }\n",
       "\n",
       "    .dataframe thead th {\n",
       "        text-align: right;\n",
       "    }\n",
       "</style>\n",
       "<table border=\"1\" class=\"dataframe\">\n",
       "  <thead>\n",
       "    <tr style=\"text-align: right;\">\n",
       "      <th></th>\n",
       "      <th>PassengerId</th>\n",
       "      <th>Survived</th>\n",
       "    </tr>\n",
       "  </thead>\n",
       "  <tbody>\n",
       "    <tr>\n",
       "      <th>0</th>\n",
       "      <td>892</td>\n",
       "      <td>0</td>\n",
       "    </tr>\n",
       "    <tr>\n",
       "      <th>1</th>\n",
       "      <td>893</td>\n",
       "      <td>1</td>\n",
       "    </tr>\n",
       "    <tr>\n",
       "      <th>2</th>\n",
       "      <td>894</td>\n",
       "      <td>0</td>\n",
       "    </tr>\n",
       "    <tr>\n",
       "      <th>3</th>\n",
       "      <td>895</td>\n",
       "      <td>0</td>\n",
       "    </tr>\n",
       "    <tr>\n",
       "      <th>4</th>\n",
       "      <td>896</td>\n",
       "      <td>1</td>\n",
       "    </tr>\n",
       "    <tr>\n",
       "      <th>...</th>\n",
       "      <td>...</td>\n",
       "      <td>...</td>\n",
       "    </tr>\n",
       "    <tr>\n",
       "      <th>413</th>\n",
       "      <td>1305</td>\n",
       "      <td>0</td>\n",
       "    </tr>\n",
       "    <tr>\n",
       "      <th>414</th>\n",
       "      <td>1306</td>\n",
       "      <td>1</td>\n",
       "    </tr>\n",
       "    <tr>\n",
       "      <th>415</th>\n",
       "      <td>1307</td>\n",
       "      <td>0</td>\n",
       "    </tr>\n",
       "    <tr>\n",
       "      <th>416</th>\n",
       "      <td>1308</td>\n",
       "      <td>0</td>\n",
       "    </tr>\n",
       "    <tr>\n",
       "      <th>417</th>\n",
       "      <td>1309</td>\n",
       "      <td>0</td>\n",
       "    </tr>\n",
       "  </tbody>\n",
       "</table>\n",
       "<p>418 rows × 2 columns</p>\n",
       "</div>"
      ],
      "text/plain": [
       "     PassengerId  Survived\n",
       "0            892         0\n",
       "1            893         1\n",
       "2            894         0\n",
       "3            895         0\n",
       "4            896         1\n",
       "..           ...       ...\n",
       "413         1305         0\n",
       "414         1306         1\n",
       "415         1307         0\n",
       "416         1308         0\n",
       "417         1309         0\n",
       "\n",
       "[418 rows x 2 columns]"
      ]
     },
     "execution_count": 117,
     "metadata": {},
     "output_type": "execute_result"
    }
   ],
   "source": [
    "y_predictions_df"
   ]
  },
  {
   "cell_type": "code",
   "execution_count": 118,
   "id": "544458a5",
   "metadata": {},
   "outputs": [
    {
     "data": {
      "text/plain": [
       "0    262\n",
       "1    156\n",
       "Name: Survived, dtype: int64"
      ]
     },
     "execution_count": 118,
     "metadata": {},
     "output_type": "execute_result"
    }
   ],
   "source": [
    "y_predictions_df['Survived'].value_counts()"
   ]
  },
  {
   "cell_type": "code",
   "execution_count": 119,
   "id": "13ee0a85",
   "metadata": {},
   "outputs": [],
   "source": [
    "y_predictions_df.to_csv(\"my_submission1.csv\", index=False)"
   ]
  },
  {
   "cell_type": "markdown",
   "id": "138560f7",
   "metadata": {},
   "source": [
    "Our submission scored 0.77990. Currently, the ranking for that score is 3559.\n"
   ]
  },
  {
   "cell_type": "code",
   "execution_count": null,
   "id": "1b155d6e",
   "metadata": {},
   "outputs": [],
   "source": []
  }
 ],
 "metadata": {
  "kernelspec": {
   "display_name": "Python 3",
   "language": "python",
   "name": "python3"
  },
  "language_info": {
   "codemirror_mode": {
    "name": "ipython",
    "version": 3
   },
   "file_extension": ".py",
   "mimetype": "text/x-python",
   "name": "python",
   "nbconvert_exporter": "python",
   "pygments_lexer": "ipython3",
   "version": "3.8.8"
  }
 },
 "nbformat": 4,
 "nbformat_minor": 5
}
